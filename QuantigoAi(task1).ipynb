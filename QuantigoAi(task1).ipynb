{
 "cells": [
  {
   "cell_type": "code",
   "execution_count": 9,
   "id": "b7e7ed69-0fd3-4ae4-be3d-ad41dd443de3",
   "metadata": {},
   "outputs": [
    {
     "name": "stdout",
     "output_type": "stream",
     "text": [
      "<class 'list'>\n"
     ]
    }
   ],
   "source": [
    "import json\n",
    "f = open('pos_0.png.json')\n",
    "data = json.load(f)\n",
    "print(type(data['objects']))"
   ]
  },
  {
   "cell_type": "code",
   "execution_count": 10,
   "id": "6ef96865-e3d6-49bc-9aee-5c71ff4e21b0",
   "metadata": {},
   "outputs": [],
   "source": [
    "nameV = []\n",
    "valueV = []\n",
    "nameL = []\n",
    "valueL = []\n",
    "exteriorV = []\n",
    "interiorV = []\n",
    "exteriorL = []\n",
    "interiorL = []\n",
    "for v in data['objects']:\n",
    "    presence = 0\n",
    "    vehicle = 0\n",
    "    license_plate = 0\n",
    "    if v['classTitle'] == 'Vehicle':\n",
    "        presence = 1\n",
    "        vehicle = 1\n",
    "    elif v['classTitle'] == 'License Plate':\n",
    "        presence = 1\n",
    "        license_plate = 1\n",
    "\n",
    "    for i in v['tags']:\n",
    "        if vehicle == 1:\n",
    "            nameV.append(i['name'])\n",
    "            valueV.append(i['value'])\n",
    "        elif license_plate == 1:\n",
    "            nameL.append(i['name'])\n",
    "            valueL.append(i['value'])\n",
    "\n",
    "    for i in v['points']['exterior']:\n",
    "        for j in range(len(i)):\n",
    "\n",
    "            if vehicle == 1:\n",
    "                exteriorV.append(i[j])\n",
    "                interiorV.append(i[j])\n",
    "            elif license_plate == 1:\n",
    "                exteriorL.append(i[j])\n",
    "                interiorL.append(i[j])\n",
    "\n",
    "formatted_pos_0 = []\n",
    "factorV = {}\n",
    "for i in range(len(nameV)):\n",
    "    factorV[nameV[i]] = valueV[i]\n",
    "\n",
    "factorL = {}\n",
    "for i in range(len(nameL)):\n",
    "    factorL[nameL[i]] = valueL[i]\n",
    "\n",
    "res = [\n",
    "    {\n",
    "        \"dataset_name\": \"pos_0.png.json\",\n",
    "        \"image_link\": \"\",\n",
    "        \"annotation_type\": \"image\",\n",
    "        \"annotation_objects\": {\n",
    "            \"vehicle\": {\n",
    "                \"presence\": presence,\n",
    "                \"bbox\":\n",
    "                    exteriorV\n",
    "\n",
    "            },\n",
    "            \"license_plate\": {\n",
    "                \"presence\": presence,\n",
    "                \"bbox\":\n",
    "                    exteriorL\n",
    "\n",
    "            }\n",
    "        },\n",
    "        \"annotation_attributes\": {\n",
    "            \"vehicle\":\n",
    "                factorV\n",
    "            ,\n",
    "            \"license_plate\":\n",
    "                factorL\n",
    "\n",
    "        }\n",
    "    }\n",
    "]\n",
    "formatted_pos_0.append(res)\n",
    "\n",
    "with open('formatteed_pos_0.json', 'w') as f:\n",
    "    json.dump(formatted_pos_0, f, indent=2, default=list, sort_keys=False)\n"
   ]
  },
  {
   "cell_type": "code",
   "execution_count": null,
   "id": "10cbe756-dce8-4bf2-8481-3389c3eb0d2f",
   "metadata": {},
   "outputs": [],
   "source": []
  },
  {
   "cell_type": "code",
   "execution_count": null,
   "id": "6526fabb-9aa2-4f76-903b-a675ef647e5d",
   "metadata": {},
   "outputs": [],
   "source": []
  },
  {
   "cell_type": "code",
   "execution_count": null,
   "id": "53f042c2-0b47-4422-9520-05721be7c0c0",
   "metadata": {},
   "outputs": [],
   "source": []
  }
 ],
 "metadata": {
  "kernelspec": {
   "display_name": "Python 3 (ipykernel)",
   "language": "python",
   "name": "python3"
  },
  "language_info": {
   "codemirror_mode": {
    "name": "ipython",
    "version": 3
   },
   "file_extension": ".py",
   "mimetype": "text/x-python",
   "name": "python",
   "nbconvert_exporter": "python",
   "pygments_lexer": "ipython3",
   "version": "3.9.7"
  }
 },
 "nbformat": 4,
 "nbformat_minor": 5
}
