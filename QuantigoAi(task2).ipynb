{
 "cells": [
  {
   "cell_type": "code",
   "execution_count": 2,
   "id": "f5eb1c58-d3b7-437b-b508-ada0df437972",
   "metadata": {},
   "outputs": [],
   "source": [
    "import json\n",
    "import os\n",
    "from jsonmerge import merge\n",
    "data = []\n",
    "with open('marge_file.json', 'w') as f:\n",
    "    for i in os.listdir(r'C:\\Users\\Arnob\\Documents\\quantigoai'):\n",
    "        with open(i) as file:\n",
    "            x = json.load(file)\n",
    "            data.append(x)\n",
    "    json.dump(data, f, indent=2, default=dict)\n",
    "\n",
    "\n",
    "json_ob = []\n",
    "with open('marge_file.json') as f:\n",
    "    json_ob = json.load(f)\n",
    "\n",
    "for obj in json_ob:\n",
    "    for i in obj['objects']:\n",
    "        if i['classTitle'] == 'Vehicle':\n",
    "            i['classTitle'] = \"car\"\n",
    "            with open(\"marge_file.json\", \"w\") as f:\n",
    "                json.dump(i, f)\n",
    "        elif i['classTitle'] == 'License Plate':\n",
    "            i['classTitle'] = \"number\"\n",
    "            with open(\"marge_file.json\", \"w\") as f:\n",
    "                json.dump(i, f)\n",
    "\n",
    "with open('marge_file.json', 'w') as f:\n",
    "    json.dump(json_ob, f, indent=2)"
   ]
  },
  {
   "cell_type": "code",
   "execution_count": null,
   "id": "f984b115-b0a9-4ab6-89ff-24770ab81ae0",
   "metadata": {},
   "outputs": [],
   "source": []
  }
 ],
 "metadata": {
  "kernelspec": {
   "display_name": "Python 3 (ipykernel)",
   "language": "python",
   "name": "python3"
  },
  "language_info": {
   "codemirror_mode": {
    "name": "ipython",
    "version": 3
   },
   "file_extension": ".py",
   "mimetype": "text/x-python",
   "name": "python",
   "nbconvert_exporter": "python",
   "pygments_lexer": "ipython3",
   "version": "3.9.7"
  }
 },
 "nbformat": 4,
 "nbformat_minor": 5
}
